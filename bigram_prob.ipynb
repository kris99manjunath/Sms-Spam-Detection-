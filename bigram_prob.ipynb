{
  "nbformat": 4,
  "nbformat_minor": 0,
  "metadata": {
    "colab": {
      "name": "bigram_prob.ipynb",
      "provenance": []
    },
    "kernelspec": {
      "name": "python3",
      "display_name": "Python 3"
    }
  },
  "cells": [
    {
      "cell_type": "code",
      "metadata": {
        "id": "rcsxe_hOr9nE",
        "colab_type": "code",
        "colab": {
          "base_uri": "https://localhost:8080/",
          "height": 35
        },
        "outputId": "61716f25-e4e4-46b3-8497-af216e42241a"
      },
      "source": [
        "from google.colab import drive\n",
        "drive.mount('/content/gdrive')"
      ],
      "execution_count": null,
      "outputs": [
        {
          "output_type": "stream",
          "text": [
            "Drive already mounted at /content/gdrive; to attempt to forcibly remount, call drive.mount(\"/content/gdrive\", force_remount=True).\n"
          ],
          "name": "stdout"
        }
      ]
    },
    {
      "cell_type": "code",
      "metadata": {
        "id": "NeUWSNNAMKRi",
        "colab_type": "code",
        "colab": {
          "base_uri": "https://localhost:8080/",
          "height": 108
        },
        "outputId": "e24435d9-6894-438e-c84a-69ee054be48f"
      },
      "source": [
        "import nltk\n",
        "nltk.download('stopwords')\n",
        "nltk.download('wordnet')"
      ],
      "execution_count": null,
      "outputs": [
        {
          "output_type": "stream",
          "text": [
            "[nltk_data] Downloading package stopwords to /root/nltk_data...\n",
            "[nltk_data]   Package stopwords is already up-to-date!\n",
            "[nltk_data] Downloading package wordnet to /root/nltk_data...\n",
            "[nltk_data]   Package wordnet is already up-to-date!\n"
          ],
          "name": "stdout"
        },
        {
          "output_type": "execute_result",
          "data": {
            "text/plain": [
              "True"
            ]
          },
          "metadata": {
            "tags": []
          },
          "execution_count": 2
        }
      ]
    },
    {
      "cell_type": "code",
      "metadata": {
        "id": "0-zU3sBlbB1S",
        "colab_type": "code",
        "colab": {}
      },
      "source": [
        "\n",
        "from nltk.stem import WordNetLemmatizer\n",
        "import pandas as pd\n",
        "import string\n",
        "import re"
      ],
      "execution_count": null,
      "outputs": []
    },
    {
      "cell_type": "code",
      "metadata": {
        "id": "zsAZzQEVcZQ1",
        "colab_type": "code",
        "colab": {}
      },
      "source": [
        "#Inspecting data\n",
        "full_corpus = pd.read_csv('/content/gdrive/My Drive/nlp_proj/data/SMSSpamCollection', sep='\\t', header=None, names=['label', 'msg_body'])\n",
        "# print(\"Input data has {} rows and {} columns\".format(len(full_corpus), len(full_corpus.columns)))\n",
        "# print(full_corpus.info())\n",
        "\n",
        "# Separating messages into ham and spam\n",
        "ham_text = []\n",
        "spam_text = []"
      ],
      "execution_count": null,
      "outputs": []
    },
    {
      "cell_type": "code",
      "metadata": {
        "id": "lEkIfj7Gce2p",
        "colab_type": "code",
        "colab": {}
      },
      "source": [
        "def separate_msgs():\n",
        "    for index, column in full_corpus.iterrows():\n",
        "        label = column[0]\n",
        "        message_text = column[1]\n",
        "        if label == 'ham':\n",
        "            ham_text.append(message_text)\n",
        "        elif label == 'spam':\n",
        "            spam_text.append(message_text)\n",
        "\n",
        "separate_msgs()\n",
        "ham_text = ham_text[:1500]"
      ],
      "execution_count": null,
      "outputs": []
    },
    {
      "cell_type": "code",
      "metadata": {
        "id": "SYJB-HNnchDn",
        "colab_type": "code",
        "colab": {}
      },
      "source": [
        "# Preprocessing of text\n",
        "\n",
        "#removing punctuation marks from the email messages\n",
        "def remove_msg_punctuations(msg):\n",
        "    puntuation_removed_msg = \"\".join([word for word in msg if word not in string.punctuation])\n",
        "    return puntuation_removed_msg\n"
      ],
      "execution_count": null,
      "outputs": []
    },
    {
      "cell_type": "code",
      "metadata": {
        "id": "VGxUHaQUckIr",
        "colab_type": "code",
        "colab": {}
      },
      "source": [
        "#converting text into lowercase and word tokenizing\n",
        "def tokenize_into_words(text):\n",
        "    tokens = re.split('\\W+', text)\n",
        "    return tokens\n"
      ],
      "execution_count": null,
      "outputs": []
    },
    {
      "cell_type": "code",
      "metadata": {
        "id": "ChMiKkRpcmcs",
        "colab_type": "code",
        "colab": {}
      },
      "source": [
        "#lemmatizing\n",
        "word_lemmatizer = WordNetLemmatizer()\n",
        "def lemmatization(tokenized_words):\n",
        "    lemmatized_text = [word_lemmatizer.lemmatize(word)for word in tokenized_words]\n",
        "    return ' '.join(lemmatized_text)\n"
      ],
      "execution_count": null,
      "outputs": []
    },
    {
      "cell_type": "code",
      "metadata": {
        "id": "6fUZz9NycpQa",
        "colab_type": "code",
        "colab": {}
      },
      "source": [
        "def preprocessing_msgs(corpus):\n",
        "    categorized_text = pd.DataFrame(corpus)\n",
        "    categorized_text['non_punc_message_body'] = categorized_text[0].apply(lambda msg: remove_msg_punctuations(msg))\n",
        "    categorized_text['tokenized_msg_body'] = categorized_text['non_punc_message_body'].apply(lambda msg: tokenize_into_words(msg.lower()))\n",
        "    categorized_text['lemmatized_msg_words'] = categorized_text['tokenized_msg_body'].apply(lambda word_list: lemmatization(word_list))\n",
        "    return categorized_text['lemmatized_msg_words']\n"
      ],
      "execution_count": null,
      "outputs": []
    },
    {
      "cell_type": "code",
      "metadata": {
        "id": "vZaNlcLkcsDX",
        "colab_type": "code",
        "colab": {}
      },
      "source": [
        "# Extracting features i.e. n-grams\n",
        "def feature_extraction(preprocessed_text):\n",
        "    bigrams = []\n",
        "    unigrams_lists = []\n",
        "    for msg in preprocessed_text:\n",
        "        # adding end of and start of a message\n",
        "        msg = '<s> ' +msg +' </s>'\n",
        "        unigrams_lists.append(msg.split())\n",
        "    unigrams = [uni_list for sub_list in unigrams_lists for uni_list in sub_list]\n",
        "    bigrams.extend(nltk.bigrams(unigrams))\n",
        "    return bigrams\n"
      ],
      "execution_count": null,
      "outputs": []
    },
    {
      "cell_type": "code",
      "metadata": {
        "id": "Y7O17MtGcuh8",
        "colab_type": "code",
        "colab": {}
      },
      "source": [
        "# removing bigrams only with stop words\n",
        "stopwords = nltk.corpus.stopwords.words('english')\n",
        "def filter_stopwords_bigrams(bigram_list):\n",
        "    filtered_bigrams = []\n",
        "    for bigram in bigram_list:\n",
        "        if bigram[0] in stopwords and bigram[1] in stopwords:\n",
        "            continue\n",
        "        filtered_bigrams.append(bigram)\n",
        "    return filtered_bigrams\n"
      ],
      "execution_count": null,
      "outputs": []
    },
    {
      "cell_type": "code",
      "metadata": {
        "id": "sxZuBjwlcw55",
        "colab_type": "code",
        "colab": {}
      },
      "source": [
        "# Acquiring frequencies of features\n",
        "def ham_bigram_feature_frequency():\n",
        "    # features frequency for ham messages\n",
        "    ham_bigrams = feature_extraction(preprocessing_msgs(ham_text))\n",
        "    ham_bigram_frequency = nltk.FreqDist(filter_stopwords_bigrams(ham_bigrams))\n",
        "    return ham_bigram_frequency\n",
        "\n",
        "def spam_bigram_feature_frequency():\n",
        "    # features frequency for spam messages\n",
        "    spam_bigrams = feature_extraction(preprocessing_msgs(spam_text))\n",
        "    spam_bigram_frequency = nltk.FreqDist(filter_stopwords_bigrams(spam_bigrams))\n",
        "    return spam_bigram_frequency\n"
      ],
      "execution_count": null,
      "outputs": []
    },
    {
      "cell_type": "code",
      "metadata": {
        "id": "ov69gQifc11n",
        "colab_type": "code",
        "colab": {}
      },
      "source": [
        "# calculating bigram probabilities\n",
        "def bigram_probability(message):\n",
        "    probability_h = 1\n",
        "    probability_s = 1\n",
        "    # preprocessing input messages\n",
        "    punc_removed_message = \"\".join(word for word in message if word not in string.punctuation)\n",
        "    punc_removed_message = '<s> ' +punc_removed_message +' </s>'\n",
        "    tokenized_msg = re.split('\\s+', punc_removed_message)\n",
        "    lemmatized_msg = [word_lemmatizer.lemmatize(word)for word in tokenized_msg]\n",
        "    # bigrams for message\n",
        "    bigrams_for_msg = list(nltk.bigrams(lemmatized_msg))\n",
        "    # stop words removed unigrams for vocabulary\n",
        "    ham_unigrams = [word for word in feature_extraction(preprocessing_msgs(ham_text)) if word not in stopwords]\n",
        "    spam_unigrams = [word for word in feature_extraction(preprocessing_msgs(spam_text)) if word not in stopwords]\n",
        "    # frequecies of bigrams extracted\n",
        "    ham_frequency = ham_bigram_feature_frequency()\n",
        "    spam_frequency  = spam_bigram_feature_frequency()\n",
        "    print('========================== Calculating Probabilities ==========================')\n",
        "    print('----------- Ham Freuquencies ------------')\n",
        "    for bigram in bigrams_for_msg:\n",
        "        # probability of first word in bigram\n",
        "        ham_probability_denominator = 0\n",
        "        # probability of bigram (smoothed)\n",
        "        ham_probability_of_bigram = ham_frequency[bigram] + 1\n",
        "        print(bigram, ' occurs ', ham_probability_of_bigram)\n",
        "        for (first_unigram, second_unigram) in filter_stopwords_bigrams(ham_unigrams):\n",
        "            ham_probability_denominator += 1\n",
        "            if(first_unigram == bigram[0]):\n",
        "                ham_probability_denominator += ham_frequency[first_unigram, second_unigram]\n",
        "        probability = ham_probability_of_bigram / ham_probability_denominator\n",
        "        probability_h *= probability\n",
        "    print('\\n')\n",
        "    print('----------- Spam Freuquencies ------------')\n",
        "    for bigram in bigrams_for_msg:\n",
        "        # probability of first word in bigram\n",
        "        spam_probability_denominator = 0\n",
        "        # probability of bigram (smoothed)\n",
        "        spam_probability_of_bigram = spam_frequency[bigram] + 1\n",
        "        print(bigram, ' occurs ', spam_probability_of_bigram)\n",
        "        for (first_unigram, second_unigram) in filter_stopwords_bigrams(spam_unigrams):\n",
        "            spam_probability_denominator += 1\n",
        "            if(first_unigram == bigram[0]):\n",
        "                spam_probability_denominator += spam_frequency[first_unigram, second_unigram]\n",
        "        probability = spam_probability_of_bigram / spam_probability_denominator\n",
        "        probability_s *= probability\n",
        "    print('\\n')\n",
        "    print('Ham Probability: ' +str(probability_h))\n",
        "    print('Spam Probability: ' +str(probability_s))\n",
        "    print('\\n')\n",
        "    if(probability_h >= probability_s):\n",
        "        print('\\\"' +message +'\\\" is a Ham message')\n",
        "    else:\n",
        "        print('\\\"' +message +'\\\" is a Spam message')\n",
        "    print('\\n')\n"
      ],
      "execution_count": null,
      "outputs": []
    },
    {
      "cell_type": "code",
      "metadata": {
        "id": "6wOeH31ir-jH",
        "colab_type": "code",
        "colab": {
          "base_uri": "https://localhost:8080/",
          "height": 962
        },
        "outputId": "99f4d197-73c0-4afc-edae-c29183aa644b"
      },
      "source": [
        "bigram_probability('Sorry,  ..use your brain dear')\n",
        "bigram_probability('SIX chances to win CASH.')"
      ],
      "execution_count": null,
      "outputs": [
        {
          "output_type": "stream",
          "text": [
            "========================== Calculating Probabilities ==========================\n",
            "----------- Ham Freuquencies ------------\n",
            "('<s>', 'Sorry')  occurs  1\n",
            "('Sorry', 'use')  occurs  1\n",
            "('use', 'your')  occurs  2\n",
            "('your', 'brain')  occurs  2\n",
            "('brain', 'dear')  occurs  2\n",
            "('dear', '</s>')  occurs  10\n",
            "\n",
            "\n",
            "----------- Spam Freuquencies ------------\n",
            "('<s>', 'Sorry')  occurs  1\n",
            "('Sorry', 'use')  occurs  1\n",
            "('use', 'your')  occurs  3\n",
            "('your', 'brain')  occurs  1\n",
            "('brain', 'dear')  occurs  1\n",
            "('dear', '</s>')  occurs  1\n",
            "\n",
            "\n",
            "Ham Probability: 3.487628063507234e-25\n",
            "Spam Probability: 4.9965257136356e-26\n",
            "\n",
            "\n",
            "\"Sorry,  ..use your brain dear\" is a Ham message\n",
            "\n",
            "\n",
            "========================== Calculating Probabilities ==========================\n",
            "----------- Ham Freuquencies ------------\n",
            "('<s>', 'SIX')  occurs  1\n",
            "('SIX', 'chance')  occurs  1\n",
            "('chance', 'to')  occurs  1\n",
            "('to', 'win')  occurs  1\n",
            "('win', 'CASH')  occurs  1\n",
            "('CASH', '</s>')  occurs  1\n",
            "\n",
            "\n",
            "----------- Spam Freuquencies ------------\n",
            "('<s>', 'SIX')  occurs  1\n",
            "('SIX', 'chance')  occurs  1\n",
            "('chance', 'to')  occurs  18\n",
            "('to', 'win')  occurs  19\n",
            "('win', 'CASH')  occurs  1\n",
            "('CASH', '</s>')  occurs  1\n",
            "\n",
            "\n",
            "Ham Probability: 4.0494551374433525e-27\n",
            "Spam Probability: 4.648549512952476e-24\n",
            "\n",
            "\n",
            "\"SIX chances to win CASH.\" is a Spam message\n",
            "\n",
            "\n"
          ],
          "name": "stdout"
        }
      ]
    },
    {
      "cell_type": "code",
      "metadata": {
        "id": "_53zgWR2L4f5",
        "colab_type": "code",
        "colab": {}
      },
      "source": [
        ""
      ],
      "execution_count": null,
      "outputs": []
    },
    {
      "cell_type": "code",
      "metadata": {
        "id": "2HJjGwRzQE5y",
        "colab_type": "code",
        "colab": {
          "base_uri": "https://localhost:8080/",
          "height": 853
        },
        "outputId": "9b4c09ce-21e5-43fa-d293-2f0ed7350ba4"
      },
      "source": [
        "bigram_probability(';Congratulations Dear Get Rs. 2000 Welcome Bonus Play Rummy and Register for Free Click Here')"
      ],
      "execution_count": null,
      "outputs": [
        {
          "output_type": "stream",
          "text": [
            "========================== Calculating Probabilities ==========================\n",
            "----------- Ham Freuquencies ------------\n",
            "('<s>', 'Congratulations')  occurs  1\n",
            "('Congratulations', 'Dear')  occurs  1\n",
            "('Dear', 'Get')  occurs  1\n",
            "('Get', 'Rs')  occurs  1\n",
            "('Rs', '2000')  occurs  1\n",
            "('2000', 'Welcome')  occurs  1\n",
            "('Welcome', 'Bonus')  occurs  1\n",
            "('Bonus', 'Play')  occurs  1\n",
            "('Play', 'Rummy')  occurs  1\n",
            "('Rummy', 'and')  occurs  1\n",
            "('and', 'Register')  occurs  1\n",
            "('Register', 'for')  occurs  1\n",
            "('for', 'Free')  occurs  1\n",
            "('Free', 'Click')  occurs  1\n",
            "('Click', 'Here')  occurs  1\n",
            "('Here', '</s>')  occurs  1\n",
            "\n",
            "\n",
            "----------- Spam Freuquencies ------------\n",
            "('<s>', 'Congratulations')  occurs  1\n",
            "('Congratulations', 'Dear')  occurs  1\n",
            "('Dear', 'Get')  occurs  1\n",
            "('Get', 'Rs')  occurs  1\n",
            "('Rs', '2000')  occurs  1\n",
            "('2000', 'Welcome')  occurs  1\n",
            "('Welcome', 'Bonus')  occurs  1\n",
            "('Bonus', 'Play')  occurs  1\n",
            "('Play', 'Rummy')  occurs  1\n",
            "('Rummy', 'and')  occurs  1\n",
            "('and', 'Register')  occurs  1\n",
            "('Register', 'for')  occurs  1\n",
            "('for', 'Free')  occurs  1\n",
            "('Free', 'Click')  occurs  1\n",
            "('Click', 'Here')  occurs  1\n",
            "('Here', '</s>')  occurs  1\n",
            "\n",
            "\n",
            "Ham Probability: 2.150523888330261e-70\n",
            "Spam Probability: 6.035342335827911e-69\n",
            "\n",
            "\n",
            "\";Congratulations Dear Get Rs. 2000 Welcome Bonus Play Rummy and Register for Free Click Here\" is a Spam message\n",
            "\n",
            "\n"
          ],
          "name": "stdout"
        }
      ]
    },
    {
      "cell_type": "code",
      "metadata": {
        "id": "JzFF87EVQWe9",
        "colab_type": "code",
        "colab": {
          "base_uri": "https://localhost:8080/",
          "height": 1000
        },
        "outputId": "cef7a659-4d9b-4373-da49-a88d23e96ab0"
      },
      "source": [
        "bigram_probability('Hi Shyam, book your batch now for Internshala Online Summer Trainings. Get up to 55% + 10% off on trainings till 15th March bit.ly/summer-launch20')"
      ],
      "execution_count": null,
      "outputs": [
        {
          "output_type": "stream",
          "text": [
            "========================== Calculating Probabilities ==========================\n",
            "----------- Ham Freuquencies ------------\n",
            "('<s>', 'Hi')  occurs  1\n",
            "('Hi', 'Shyam')  occurs  1\n",
            "('Shyam', 'book')  occurs  1\n",
            "('book', 'your')  occurs  1\n",
            "('your', 'batch')  occurs  1\n",
            "('batch', 'now')  occurs  1\n",
            "('now', 'for')  occurs  1\n",
            "('for', 'Internshala')  occurs  1\n",
            "('Internshala', 'Online')  occurs  1\n",
            "('Online', 'Summer')  occurs  1\n",
            "('Summer', 'Trainings')  occurs  1\n",
            "('Trainings', 'Get')  occurs  1\n",
            "('Get', 'up')  occurs  1\n",
            "('up', 'to')  occurs  1\n",
            "('to', '55')  occurs  1\n",
            "('55', '10')  occurs  1\n",
            "('10', 'off')  occurs  1\n",
            "('off', 'on')  occurs  1\n",
            "('on', 'training')  occurs  1\n",
            "('training', 'till')  occurs  1\n",
            "('till', '15th')  occurs  1\n",
            "('15th', 'March')  occurs  1\n",
            "('March', 'bitlysummerlaunch20')  occurs  1\n",
            "('bitlysummerlaunch20', '</s>')  occurs  1\n",
            "\n",
            "\n",
            "----------- Spam Freuquencies ------------\n",
            "('<s>', 'Hi')  occurs  1\n",
            "('Hi', 'Shyam')  occurs  1\n",
            "('Shyam', 'book')  occurs  1\n",
            "('book', 'your')  occurs  2\n",
            "('your', 'batch')  occurs  1\n",
            "('batch', 'now')  occurs  1\n",
            "('now', 'for')  occurs  1\n",
            "('for', 'Internshala')  occurs  1\n",
            "('Internshala', 'Online')  occurs  1\n",
            "('Online', 'Summer')  occurs  1\n",
            "('Summer', 'Trainings')  occurs  1\n",
            "('Trainings', 'Get')  occurs  1\n",
            "('Get', 'up')  occurs  1\n",
            "('up', 'to')  occurs  1\n",
            "('to', '55')  occurs  1\n",
            "('55', '10')  occurs  1\n",
            "('10', 'off')  occurs  1\n",
            "('off', 'on')  occurs  1\n",
            "('on', 'training')  occurs  1\n",
            "('training', 'till')  occurs  1\n",
            "('till', '15th')  occurs  1\n",
            "('15th', 'March')  occurs  1\n",
            "('March', 'bitlysummerlaunch20')  occurs  1\n",
            "('bitlysummerlaunch20', '</s>')  occurs  1\n",
            "\n",
            "\n",
            "Ham Probability: 4.241404268716639e-105\n",
            "Spam Probability: 7.187030952929878e-103\n",
            "\n",
            "\n",
            "\"Hi Shyam, book your batch now for Internshala Online Summer Trainings. Get up to 55% + 10% off on trainings till 15th March bit.ly/summer-launch20\" is a Spam message\n",
            "\n",
            "\n"
          ],
          "name": "stdout"
        }
      ]
    },
    {
      "cell_type": "code",
      "metadata": {
        "id": "DeswGDfeQcMH",
        "colab_type": "code",
        "colab": {
          "base_uri": "https://localhost:8080/",
          "height": 998
        },
        "outputId": "54feffdd-6cca-45c9-b556-e41b47babd10"
      },
      "source": [
        "bigram_probability('You are selected for Rs70000 Monthly Pension after Retirement. Just Rs120/day & Upto 1.5 Lacs Tax Discount. Know more http://ap6m.com/lhhamzkilzl')"
      ],
      "execution_count": null,
      "outputs": [
        {
          "output_type": "stream",
          "text": [
            "========================== Calculating Probabilities ==========================\n",
            "----------- Ham Freuquencies ------------\n",
            "('<s>', 'You')  occurs  1\n",
            "('You', 'are')  occurs  1\n",
            "('are', 'selected')  occurs  1\n",
            "('selected', 'for')  occurs  1\n",
            "('for', 'Rs70000')  occurs  1\n",
            "('Rs70000', 'Monthly')  occurs  1\n",
            "('Monthly', 'Pension')  occurs  1\n",
            "('Pension', 'after')  occurs  1\n",
            "('after', 'Retirement')  occurs  1\n",
            "('Retirement', 'Just')  occurs  1\n",
            "('Just', 'Rs120day')  occurs  1\n",
            "('Rs120day', 'Upto')  occurs  1\n",
            "('Upto', '15')  occurs  1\n",
            "('15', 'Lacs')  occurs  1\n",
            "('Lacs', 'Tax')  occurs  1\n",
            "('Tax', 'Discount')  occurs  1\n",
            "('Discount', 'Know')  occurs  1\n",
            "('Know', 'more')  occurs  1\n",
            "('more', 'httpap6mcomlhhamzkilzl')  occurs  1\n",
            "('httpap6mcomlhhamzkilzl', '</s>')  occurs  1\n",
            "\n",
            "\n",
            "----------- Spam Freuquencies ------------\n",
            "('<s>', 'You')  occurs  1\n",
            "('You', 'are')  occurs  1\n",
            "('are', 'selected')  occurs  12\n",
            "('selected', 'for')  occurs  1\n",
            "('for', 'Rs70000')  occurs  1\n",
            "('Rs70000', 'Monthly')  occurs  1\n",
            "('Monthly', 'Pension')  occurs  1\n",
            "('Pension', 'after')  occurs  1\n",
            "('after', 'Retirement')  occurs  1\n",
            "('Retirement', 'Just')  occurs  1\n",
            "('Just', 'Rs120day')  occurs  1\n",
            "('Rs120day', 'Upto')  occurs  1\n",
            "('Upto', '15')  occurs  1\n",
            "('15', 'Lacs')  occurs  1\n",
            "('Lacs', 'Tax')  occurs  1\n",
            "('Tax', 'Discount')  occurs  1\n",
            "('Discount', 'Know')  occurs  1\n",
            "('Know', 'more')  occurs  1\n",
            "('more', 'httpap6mcomlhhamzkilzl')  occurs  1\n",
            "('httpap6mcomlhhamzkilzl', '</s>')  occurs  1\n",
            "\n",
            "\n",
            "Ham Probability: 1.0341118093222723e-87\n",
            "Spam Probability: 7.19086658359961e-85\n",
            "\n",
            "\n",
            "\"You are selected for Rs70000 Monthly Pension after Retirement. Just Rs120/day & Upto 1.5 Lacs Tax Discount. Know more http://ap6m.com/lhhamzkilzl\" is a Spam message\n",
            "\n",
            "\n"
          ],
          "name": "stdout"
        }
      ]
    },
    {
      "cell_type": "code",
      "metadata": {
        "id": "nA80_1IxQfzY",
        "colab_type": "code",
        "colab": {
          "base_uri": "https://localhost:8080/",
          "height": 889
        },
        "outputId": "ce88f798-282f-4afa-d033-da6ec6ebe2a3"
      },
      "source": [
        "bigram_probability('Your loan form is missing a signature. Click here and get approved for Rs.25lakh Business Loan')"
      ],
      "execution_count": null,
      "outputs": [
        {
          "output_type": "stream",
          "text": [
            "========================== Calculating Probabilities ==========================\n",
            "----------- Ham Freuquencies ------------\n",
            "('<s>', 'Your')  occurs  1\n",
            "('Your', 'loan')  occurs  1\n",
            "('loan', 'form')  occurs  1\n",
            "('form', 'is')  occurs  1\n",
            "('is', 'missing')  occurs  3\n",
            "('missing', 'a')  occurs  1\n",
            "('a', 'signature')  occurs  1\n",
            "('signature', 'Click')  occurs  1\n",
            "('Click', 'here')  occurs  1\n",
            "('here', 'and')  occurs  1\n",
            "('and', 'get')  occurs  3\n",
            "('get', 'approved')  occurs  1\n",
            "('approved', 'for')  occurs  1\n",
            "('for', 'Rs25lakh')  occurs  1\n",
            "('Rs25lakh', 'Business')  occurs  1\n",
            "('Business', 'Loan')  occurs  1\n",
            "('Loan', '</s>')  occurs  1\n",
            "\n",
            "\n",
            "----------- Spam Freuquencies ------------\n",
            "('<s>', 'Your')  occurs  1\n",
            "('Your', 'loan')  occurs  1\n",
            "('loan', 'form')  occurs  1\n",
            "('form', 'is')  occurs  1\n",
            "('is', 'missing')  occurs  1\n",
            "('missing', 'a')  occurs  1\n",
            "('a', 'signature')  occurs  1\n",
            "('signature', 'Click')  occurs  1\n",
            "('Click', 'here')  occurs  1\n",
            "('here', 'and')  occurs  1\n",
            "('and', 'get')  occurs  5\n",
            "('get', 'approved')  occurs  1\n",
            "('approved', 'for')  occurs  1\n",
            "('for', 'Rs25lakh')  occurs  1\n",
            "('Rs25lakh', 'Business')  occurs  1\n",
            "('Business', 'Loan')  occurs  1\n",
            "('Loan', '</s>')  occurs  1\n",
            "\n",
            "\n",
            "Ham Probability: 8.366625080130585e-74\n",
            "Spam Probability: 1.4232664059739656e-72\n",
            "\n",
            "\n",
            "\"Your loan form is missing a signature. Click here and get approved for Rs.25lakh Business Loan\" is a Spam message\n",
            "\n",
            "\n"
          ],
          "name": "stdout"
        }
      ]
    },
    {
      "cell_type": "code",
      "metadata": {
        "id": "JR2FtyetQgm2",
        "colab_type": "code",
        "colab": {
          "base_uri": "https://localhost:8080/",
          "height": 1000
        },
        "outputId": "02198e36-5b35-4ecd-e064-c8b6276afdff"
      },
      "source": [
        "bigram_probability('LENSKART Spring 2020 is Live! New Rounders, Hexagons, Transparents, Pilots, Cateyes! Buy One Get One with BLU lenses. Get App: lskt.me/z4. Store: lskt.me/u4')"
      ],
      "execution_count": null,
      "outputs": [
        {
          "output_type": "stream",
          "text": [
            "========================== Calculating Probabilities ==========================\n",
            "----------- Ham Freuquencies ------------\n",
            "('<s>', 'LENSKART')  occurs  1\n",
            "('LENSKART', 'Spring')  occurs  1\n",
            "('Spring', '2020')  occurs  1\n",
            "('2020', 'is')  occurs  1\n",
            "('is', 'Live')  occurs  1\n",
            "('Live', 'New')  occurs  1\n",
            "('New', 'Rounders')  occurs  1\n",
            "('Rounders', 'Hexagons')  occurs  1\n",
            "('Hexagons', 'Transparents')  occurs  1\n",
            "('Transparents', 'Pilots')  occurs  1\n",
            "('Pilots', 'Cateyes')  occurs  1\n",
            "('Cateyes', 'Buy')  occurs  1\n",
            "('Buy', 'One')  occurs  1\n",
            "('One', 'Get')  occurs  1\n",
            "('Get', 'One')  occurs  1\n",
            "('One', 'with')  occurs  1\n",
            "('with', 'BLU')  occurs  1\n",
            "('BLU', 'lens')  occurs  1\n",
            "('lens', 'Get')  occurs  1\n",
            "('Get', 'App')  occurs  1\n",
            "('App', 'lsktmez4')  occurs  1\n",
            "('lsktmez4', 'Store')  occurs  1\n",
            "('Store', 'lsktmeu4')  occurs  1\n",
            "('lsktmeu4', '</s>')  occurs  1\n",
            "\n",
            "\n",
            "----------- Spam Freuquencies ------------\n",
            "('<s>', 'LENSKART')  occurs  1\n",
            "('LENSKART', 'Spring')  occurs  1\n",
            "('Spring', '2020')  occurs  1\n",
            "('2020', 'is')  occurs  1\n",
            "('is', 'Live')  occurs  1\n",
            "('Live', 'New')  occurs  1\n",
            "('New', 'Rounders')  occurs  1\n",
            "('Rounders', 'Hexagons')  occurs  1\n",
            "('Hexagons', 'Transparents')  occurs  1\n",
            "('Transparents', 'Pilots')  occurs  1\n",
            "('Pilots', 'Cateyes')  occurs  1\n",
            "('Cateyes', 'Buy')  occurs  1\n",
            "('Buy', 'One')  occurs  1\n",
            "('One', 'Get')  occurs  1\n",
            "('Get', 'One')  occurs  1\n",
            "('One', 'with')  occurs  1\n",
            "('with', 'BLU')  occurs  1\n",
            "('BLU', 'lens')  occurs  1\n",
            "('lens', 'Get')  occurs  1\n",
            "('Get', 'App')  occurs  1\n",
            "('App', 'lsktmez4')  occurs  1\n",
            "('lsktmez4', 'Store')  occurs  1\n",
            "('Store', 'lsktmeu4')  occurs  1\n",
            "('lsktmeu4', '</s>')  occurs  1\n",
            "\n",
            "\n",
            "Ham Probability: 4.937000975482142e-105\n",
            "Spam Probability: 6.38331206467179e-103\n",
            "\n",
            "\n",
            "\"LENSKART Spring 2020 is Live! New Rounders, Hexagons, Transparents, Pilots, Cateyes! Buy One Get One with BLU lenses. Get App: lskt.me/z4. Store: lskt.me/u4\" is a Spam message\n",
            "\n",
            "\n"
          ],
          "name": "stdout"
        }
      ]
    },
    {
      "cell_type": "code",
      "metadata": {
        "id": "C_l4ETuCQh5a",
        "colab_type": "code",
        "colab": {
          "base_uri": "https://localhost:8080/",
          "height": 1000
        },
        "outputId": "142bc5e9-ead6-42e6-c58d-cfa1d1e4a5aa"
      },
      "source": [
        "bigram_probability('Going Abroad? Get unlimited Incoming calls & stay connected to your loved ones with Airtel International Packs starting at Rs150/day. Click www.bit.ly/2HkllBk')"
      ],
      "execution_count": null,
      "outputs": [
        {
          "output_type": "stream",
          "text": [
            "========================== Calculating Probabilities ==========================\n",
            "----------- Ham Freuquencies ------------\n",
            "('<s>', 'Going')  occurs  1\n",
            "('Going', 'Abroad')  occurs  1\n",
            "('Abroad', 'Get')  occurs  1\n",
            "('Get', 'unlimited')  occurs  1\n",
            "('unlimited', 'Incoming')  occurs  1\n",
            "('Incoming', 'call')  occurs  1\n",
            "('call', 'stay')  occurs  1\n",
            "('stay', 'connected')  occurs  1\n",
            "('connected', 'to')  occurs  1\n",
            "('to', 'your')  occurs  1\n",
            "('your', 'loved')  occurs  1\n",
            "('loved', 'one')  occurs  1\n",
            "('one', 'with')  occurs  2\n",
            "('with', 'Airtel')  occurs  1\n",
            "('Airtel', 'International')  occurs  1\n",
            "('International', 'Packs')  occurs  1\n",
            "('Packs', 'starting')  occurs  1\n",
            "('starting', 'at')  occurs  1\n",
            "('at', 'Rs150day')  occurs  1\n",
            "('Rs150day', 'Click')  occurs  1\n",
            "('Click', 'wwwbitly2HkllBk')  occurs  1\n",
            "('wwwbitly2HkllBk', '</s>')  occurs  1\n",
            "\n",
            "\n",
            "----------- Spam Freuquencies ------------\n",
            "('<s>', 'Going')  occurs  1\n",
            "('Going', 'Abroad')  occurs  1\n",
            "('Abroad', 'Get')  occurs  1\n",
            "('Get', 'unlimited')  occurs  1\n",
            "('unlimited', 'Incoming')  occurs  1\n",
            "('Incoming', 'call')  occurs  1\n",
            "('call', 'stay')  occurs  1\n",
            "('stay', 'connected')  occurs  1\n",
            "('connected', 'to')  occurs  2\n",
            "('to', 'your')  occurs  1\n",
            "('your', 'loved')  occurs  1\n",
            "('loved', 'one')  occurs  1\n",
            "('one', 'with')  occurs  1\n",
            "('with', 'Airtel')  occurs  1\n",
            "('Airtel', 'International')  occurs  1\n",
            "('International', 'Packs')  occurs  1\n",
            "('Packs', 'starting')  occurs  1\n",
            "('starting', 'at')  occurs  1\n",
            "('at', 'Rs150day')  occurs  1\n",
            "('Rs150day', 'Click')  occurs  1\n",
            "('Click', 'wwwbitly2HkllBk')  occurs  1\n",
            "('wwwbitly2HkllBk', '</s>')  occurs  1\n",
            "\n",
            "\n",
            "Ham Probability: 3.933638908501513e-96\n",
            "Spam Probability: 2.2508745466359639e-94\n",
            "\n",
            "\n",
            "\"Going Abroad? Get unlimited Incoming calls & stay connected to your loved ones with Airtel International Packs starting at Rs150/day. Click www.bit.ly/2HkllBk\" is a Spam message\n",
            "\n",
            "\n"
          ],
          "name": "stdout"
        }
      ]
    },
    {
      "cell_type": "code",
      "metadata": {
        "id": "XpqCwF4pQjYT",
        "colab_type": "code",
        "colab": {
          "base_uri": "https://localhost:8080/",
          "height": 526
        },
        "outputId": "9021bf51-2f4b-42fc-c3f2-c6bb8bceaa96"
      },
      "source": [
        "bigram_probability('Good morning, what is the plan')"
      ],
      "execution_count": null,
      "outputs": [
        {
          "output_type": "stream",
          "text": [
            "========================== Calculating Probabilities ==========================\n",
            "----------- Ham Freuquencies ------------\n",
            "('<s>', 'Good')  occurs  1\n",
            "('Good', 'morning')  occurs  1\n",
            "('morning', 'what')  occurs  1\n",
            "('what', 'is')  occurs  1\n",
            "('is', 'the')  occurs  1\n",
            "('the', 'plan')  occurs  4\n",
            "('plan', '</s>')  occurs  8\n",
            "\n",
            "\n",
            "----------- Spam Freuquencies ------------\n",
            "('<s>', 'Good')  occurs  1\n",
            "('Good', 'morning')  occurs  1\n",
            "('morning', 'what')  occurs  1\n",
            "('what', 'is')  occurs  1\n",
            "('is', 'the')  occurs  1\n",
            "('the', 'plan')  occurs  1\n",
            "('plan', '</s>')  occurs  1\n",
            "\n",
            "\n",
            "Ham Probability: 6.295411400957923e-30\n",
            "Spam Probability: 1.0183244041407944e-30\n",
            "\n",
            "\n",
            "\"Good morning, what is the plan\" is a Ham message\n",
            "\n",
            "\n"
          ],
          "name": "stdout"
        }
      ]
    },
    {
      "cell_type": "code",
      "metadata": {
        "id": "v0Uf1OVlQkTi",
        "colab_type": "code",
        "colab": {
          "base_uri": "https://localhost:8080/",
          "height": 562
        },
        "outputId": "23e2aee2-f262-4c3b-9279-1663bd194885"
      },
      "source": [
        "bigram_probability('Text me if forensics class is there')"
      ],
      "execution_count": null,
      "outputs": [
        {
          "output_type": "stream",
          "text": [
            "========================== Calculating Probabilities ==========================\n",
            "----------- Ham Freuquencies ------------\n",
            "('<s>', 'Text')  occurs  1\n",
            "('Text', 'me')  occurs  1\n",
            "('me', 'if')  occurs  1\n",
            "('if', 'forensics')  occurs  1\n",
            "('forensics', 'class')  occurs  1\n",
            "('class', 'is')  occurs  3\n",
            "('is', 'there')  occurs  1\n",
            "('there', '</s>')  occurs  9\n",
            "\n",
            "\n",
            "----------- Spam Freuquencies ------------\n",
            "('<s>', 'Text')  occurs  1\n",
            "('Text', 'me')  occurs  1\n",
            "('me', 'if')  occurs  1\n",
            "('if', 'forensics')  occurs  1\n",
            "('forensics', 'class')  occurs  1\n",
            "('class', 'is')  occurs  1\n",
            "('is', 'there')  occurs  1\n",
            "('there', '</s>')  occurs  1\n",
            "\n",
            "\n",
            "Ham Probability: 2.429628479770275e-34\n",
            "Spam Probability: 6.126585421480635e-35\n",
            "\n",
            "\n",
            "\"Text me if forensics class is there\" is a Ham message\n",
            "\n",
            "\n"
          ],
          "name": "stdout"
        }
      ]
    },
    {
      "cell_type": "code",
      "metadata": {
        "id": "50CHrdFOgitV",
        "colab_type": "code",
        "colab": {
          "base_uri": "https://localhost:8080/",
          "height": 1000
        },
        "outputId": "10ea1322-d688-4ca2-d3c0-fb6de5e3ce40"
      },
      "source": [
        "bigram_probability(\"We missed you! We are doing it again for those who missed our webinar on 5 steps to get a job in cloud computing\")"
      ],
      "execution_count": null,
      "outputs": [
        {
          "output_type": "stream",
          "text": [
            "========================== Calculating Probabilities ==========================\n",
            "----------- Ham Freuquencies ------------\n",
            "('<s>', 'We')  occurs  1\n",
            "('We', 'missed')  occurs  1\n",
            "('missed', 'you')  occurs  1\n",
            "('you', 'We')  occurs  1\n",
            "('We', 'are')  occurs  1\n",
            "('are', 'doing')  occurs  1\n",
            "('doing', 'it')  occurs  1\n",
            "('it', 'again')  occurs  1\n",
            "('again', 'for')  occurs  1\n",
            "('for', 'those')  occurs  1\n",
            "('those', 'who')  occurs  1\n",
            "('who', 'missed')  occurs  1\n",
            "('missed', 'our')  occurs  1\n",
            "('our', 'webinar')  occurs  1\n",
            "('webinar', 'on')  occurs  1\n",
            "('on', '5')  occurs  1\n",
            "('5', 'step')  occurs  1\n",
            "('step', 'to')  occurs  1\n",
            "('to', 'get')  occurs  25\n",
            "('get', 'a')  occurs  9\n",
            "('a', 'job')  occurs  3\n",
            "('job', 'in')  occurs  4\n",
            "('in', 'cloud')  occurs  1\n",
            "('cloud', 'computing')  occurs  1\n",
            "('computing', '</s>')  occurs  1\n",
            "\n",
            "\n",
            "----------- Spam Freuquencies ------------\n",
            "('<s>', 'We')  occurs  1\n",
            "('We', 'missed')  occurs  1\n",
            "('missed', 'you')  occurs  1\n",
            "('you', 'We')  occurs  1\n",
            "('We', 'are')  occurs  1\n",
            "('are', 'doing')  occurs  1\n",
            "('doing', 'it')  occurs  1\n",
            "('it', 'again')  occurs  1\n",
            "('again', 'for')  occurs  1\n",
            "('for', 'those')  occurs  1\n",
            "('those', 'who')  occurs  1\n",
            "('who', 'missed')  occurs  1\n",
            "('missed', 'our')  occurs  1\n",
            "('our', 'webinar')  occurs  1\n",
            "('webinar', 'on')  occurs  1\n",
            "('on', '5')  occurs  1\n",
            "('5', 'step')  occurs  1\n",
            "('step', 'to')  occurs  1\n",
            "('to', 'get')  occurs  11\n",
            "('get', 'a')  occurs  8\n",
            "('a', 'job')  occurs  1\n",
            "('job', 'in')  occurs  1\n",
            "('in', 'cloud')  occurs  1\n",
            "('cloud', 'computing')  occurs  1\n",
            "('computing', '</s>')  occurs  1\n",
            "\n",
            "\n",
            "Ham Probability: 4.496592732831473e-106\n",
            "Spam Probability: 1.6898976230772417e-105\n",
            "\n",
            "\n",
            "\"We missed you! We are doing it again for those who missed our webinar on 5 steps to get a job in cloud computing\" is a Spam message\n",
            "\n",
            "\n"
          ],
          "name": "stdout"
        }
      ]
    },
    {
      "cell_type": "code",
      "metadata": {
        "id": "5TQbJH7tgztu",
        "colab_type": "code",
        "colab": {
          "base_uri": "https://localhost:8080/",
          "height": 489
        },
        "outputId": "8043efde-7e53-4e34-cf0a-02bfbdb9b487"
      },
      "source": [
        "bigram_probability(\"VIT wins Golden Globe Award\")"
      ],
      "execution_count": null,
      "outputs": [
        {
          "output_type": "stream",
          "text": [
            "========================== Calculating Probabilities ==========================\n",
            "----------- Ham Freuquencies ------------\n",
            "('<s>', 'VIT')  occurs  1\n",
            "('VIT', 'win')  occurs  1\n",
            "('win', 'Golden')  occurs  1\n",
            "('Golden', 'Globe')  occurs  1\n",
            "('Globe', 'Award')  occurs  1\n",
            "('Award', '</s>')  occurs  1\n",
            "\n",
            "\n",
            "----------- Spam Freuquencies ------------\n",
            "('<s>', 'VIT')  occurs  1\n",
            "('VIT', 'win')  occurs  1\n",
            "('win', 'Golden')  occurs  1\n",
            "('Golden', 'Globe')  occurs  1\n",
            "('Globe', 'Award')  occurs  1\n",
            "('Award', '</s>')  occurs  1\n",
            "\n",
            "\n",
            "Ham Probability: 4.439640606090059e-27\n",
            "Spam Probability: 1.9291421151709503e-26\n",
            "\n",
            "\n",
            "\"VIT wins Golden Globe Award\" is a Spam message\n",
            "\n",
            "\n"
          ],
          "name": "stdout"
        }
      ]
    },
    {
      "cell_type": "code",
      "metadata": {
        "id": "DFvjZvJ1mAj4",
        "colab_type": "code",
        "colab": {}
      },
      "source": [
        ""
      ],
      "execution_count": null,
      "outputs": []
    }
  ]
}